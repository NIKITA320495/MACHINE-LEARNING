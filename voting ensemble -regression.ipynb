{
 "cells": [
  {
   "cell_type": "code",
   "execution_count": 1,
   "id": "faf4ed2f",
   "metadata": {},
   "outputs": [],
   "source": [
    "import pandas as pd\n",
    "import numpy as np"
   ]
  },
  {
   "cell_type": "code",
   "execution_count": 8,
   "id": "becfec98",
   "metadata": {},
   "outputs": [],
   "source": [
    "from sklearn.datasets import load_diabetes\n",
    "x,y = load_diabetes(return_X_y=True)"
   ]
  },
  {
   "cell_type": "code",
   "execution_count": 9,
   "id": "25e438fa",
   "metadata": {},
   "outputs": [
    {
     "data": {
      "text/plain": [
       "(442, 10)"
      ]
     },
     "execution_count": 9,
     "metadata": {},
     "output_type": "execute_result"
    }
   ],
   "source": [
    "x.shape"
   ]
  },
  {
   "cell_type": "code",
   "execution_count": 10,
   "id": "37e50d7e",
   "metadata": {},
   "outputs": [
    {
     "data": {
      "text/plain": [
       "(442,)"
      ]
     },
     "execution_count": 10,
     "metadata": {},
     "output_type": "execute_result"
    }
   ],
   "source": [
    "y.shape"
   ]
  },
  {
   "cell_type": "code",
   "execution_count": 11,
   "id": "d2d5cf27",
   "metadata": {},
   "outputs": [],
   "source": [
    "from sklearn.linear_model import LinearRegression\n",
    "from sklearn.tree import DecisionTreeRegressor\n",
    "from sklearn.svm import SVR\n",
    "from sklearn.model_selection import cross_val_score"
   ]
  },
  {
   "cell_type": "code",
   "execution_count": 12,
   "id": "3fd13d23",
   "metadata": {},
   "outputs": [],
   "source": [
    "lr=LinearRegression()\n",
    "dt=DecisionTreeRegressor()\n",
    "svr=SVR()"
   ]
  },
  {
   "cell_type": "code",
   "execution_count": 16,
   "id": "66c4511f",
   "metadata": {},
   "outputs": [],
   "source": [
    "estimators=[('lr',lr),('dt',dt),('svr',svr)]"
   ]
  },
  {
   "cell_type": "code",
   "execution_count": 17,
   "id": "fca18b02",
   "metadata": {},
   "outputs": [
    {
     "name": "stdout",
     "output_type": "stream",
     "text": [
      "lr 0.46\n",
      "dt -0.23\n",
      "svr 0.15\n"
     ]
    }
   ],
   "source": [
    "for estimator in estimators:\n",
    "    scores=cross_val_score(estimator[1],x,y,scoring='r2',cv=10)\n",
    "    print(estimator[0],np.round(np.mean(scores),2))"
   ]
  },
  {
   "cell_type": "code",
   "execution_count": 18,
   "id": "2a92f55b",
   "metadata": {},
   "outputs": [],
   "source": [
    "from sklearn.ensemble import VotingRegressor"
   ]
  },
  {
   "cell_type": "code",
   "execution_count": 19,
   "id": "d3fb9fce",
   "metadata": {},
   "outputs": [
    {
     "name": "stdout",
     "output_type": "stream",
     "text": [
      "0.35\n"
     ]
    }
   ],
   "source": [
    "vr=VotingRegressor(estimators)\n",
    "scores=cross_val_score(vr,x,y,scoring='r2',cv=10)\n",
    "print(np.round(np.mean(scores),2))"
   ]
  },
  {
   "cell_type": "code",
   "execution_count": 22,
   "id": "099c860d",
   "metadata": {},
   "outputs": [
    {
     "name": "stdout",
     "output_type": "stream",
     "text": [
      "for i=1,j=1,k=1 0.35\n",
      "for i=1,j=1,k=2 0.34\n",
      "for i=1,j=1,k=3 0.32\n",
      "for i=1,j=2,k=1 0.24\n",
      "for i=1,j=2,k=2 0.3\n",
      "for i=1,j=2,k=3 0.31\n",
      "for i=1,j=3,k=1 0.17\n",
      "for i=1,j=3,k=2 0.24\n",
      "for i=1,j=3,k=3 0.27\n",
      "for i=2,j=1,k=1 0.4\n",
      "for i=2,j=1,k=2 0.39\n",
      "for i=2,j=1,k=3 0.37\n",
      "for i=2,j=2,k=1 0.32\n",
      "for i=2,j=2,k=2 0.33\n",
      "for i=2,j=2,k=3 0.35\n",
      "for i=2,j=3,k=1 0.27\n",
      "for i=2,j=3,k=2 0.3\n",
      "for i=2,j=3,k=3 0.31\n",
      "for i=3,j=1,k=1 0.42\n",
      "for i=3,j=1,k=2 0.41\n",
      "for i=3,j=1,k=3 0.39\n",
      "for i=3,j=2,k=1 0.37\n",
      "for i=3,j=2,k=2 0.38\n",
      "for i=3,j=2,k=3 0.38\n",
      "for i=3,j=3,k=1 0.33\n",
      "for i=3,j=3,k=2 0.34\n",
      "for i=3,j=3,k=3 0.34\n"
     ]
    }
   ],
   "source": [
    "for i in range(1,4):\n",
    "    for j in range(1,4):\n",
    "        for k in range(1,4):\n",
    "            vr=VotingRegressor(estimators,weights=[i,j,k])\n",
    "            scores=cross_val_score(vr,x,y,scoring='r2',cv=10)\n",
    "            print(\"for i={},j={},k={}\".format(i,j,k),np.round(np.mean(scores),2))"
   ]
  },
  {
   "cell_type": "code",
   "execution_count": null,
   "id": "b318fb00",
   "metadata": {},
   "outputs": [],
   "source": []
  }
 ],
 "metadata": {
  "kernelspec": {
   "display_name": "Python 3 (ipykernel)",
   "language": "python",
   "name": "python3"
  },
  "language_info": {
   "codemirror_mode": {
    "name": "ipython",
    "version": 3
   },
   "file_extension": ".py",
   "mimetype": "text/x-python",
   "name": "python",
   "nbconvert_exporter": "python",
   "pygments_lexer": "ipython3",
   "version": "3.10.9"
  }
 },
 "nbformat": 4,
 "nbformat_minor": 5
}
